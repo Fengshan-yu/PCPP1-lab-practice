{
 "cells": [
  {
   "cell_type": "code",
   "execution_count": 5,
   "id": "2e2ad414",
   "metadata": {},
   "outputs": [
    {
     "name": "stdout",
     "output_type": "stream",
     "text": [
      "854\n",
      "300.29622368594073\n"
     ]
    }
   ],
   "source": [
    "import random\n",
    "\n",
    "class Apple:\n",
    "    counter = 0\n",
    "    weight = 0\n",
    "    \n",
    "    def __init__(self, weight):\n",
    "        self.weight = weight\n",
    "        Apple.counter +=1\n",
    "        Apple.weight += self.weight\n",
    "        \n",
    "apple1=Apple(random.uniform(0.2, 0.5))\n",
    "apple2=Apple(random.uniform(0.2, 0.5))\n",
    "\n",
    "while Apple.weight < 300:\n",
    "    apple = Apple(random.uniform(0.2, 0.5))\n",
    "        \n",
    "print(Apple.counter)\n",
    "print(Apple.weight)\n",
    "    "
   ]
  },
  {
   "cell_type": "code",
   "execution_count": 4,
   "id": "cc86c338",
   "metadata": {},
   "outputs": [
    {
     "name": "stdout",
     "output_type": "stream",
     "text": [
      "23:44:12\n",
      "20:13:28\n",
      "43:57:40\n"
     ]
    }
   ],
   "source": [
    "class TypeError(BaseException):\n",
    "    pass\n",
    "\n",
    "class TimeInterval:\n",
    "    def __init__(self, hour, minute, second):\n",
    "        self.hour = hour\n",
    "        self.minute = minute\n",
    "        self.second = second \n",
    "        if not isinstance(self.hour, int) or not isinstance(self.minute, int) or not isinstance(self.second, int):\n",
    "            raise TypeError\n",
    "            \n",
    "    def __str__(self):\n",
    "        return f\"{self.hour}:{self.minute}:{self.second}\"\n",
    "                \n",
    "    def TimeInSecond(self):\n",
    "        return self.hour*3600 + self.minute*60 + self.second\n",
    "    \n",
    "    def __add__(self, other, /):\n",
    "        newtime = self.TimeInSecond() + other.TimeInSecond()\n",
    "        return TimeInterval(newtime//3600,(newtime//60)%60, newtime%60)\n",
    "          \n",
    "    def __sub__(self, other):\n",
    "        newtime = self.TimeInSecond() - other.TimeInSecond()\n",
    "        return TimeInterval(newtime//3600,(newtime//60)%60, newtime%60)\n",
    "    \n",
    "    def __mul__(self, x):\n",
    "        newtime = self.TimeInSecond()*x\n",
    "        return TimeInterval(newtime//3600,(newtime//60)%60, newtime%60)\n",
    "\n",
    "t=TimeInterval(21, 58, 50)\n",
    "t1=TimeInterval(1, 45, 22)\n",
    "\n",
    "\n",
    "print(t+t1)\n",
    "print(t-t1)\n",
    "print(t*2)\n"
   ]
  },
  {
   "cell_type": "code",
   "execution_count": 1,
   "id": "fa054995",
   "metadata": {},
   "outputs": [
    {
     "name": "stdout",
     "output_type": "stream",
     "text": [
      "You provided a wrong input.\n"
     ]
    }
   ],
   "source": [
    "class TypeError(BaseException):\n",
    "    pass\n",
    "\n",
    "class TimeInterval:\n",
    "    def __init__(self, hour, minute, second):\n",
    "        self.hour = hour\n",
    "        self.minute = minute\n",
    "        self.second = second \n",
    "        if not isinstance(self.hour, int) or not isinstance(self.minute, int) or not isinstance(self.second, int):\n",
    "            raise TypeError\n",
    "            \n",
    "    def __str__(self):\n",
    "        return f\"{self.hour}:{self.minute}:{self.second}\"\n",
    "                \n",
    "    def TimeInSecond(self):\n",
    "        return self.hour*3600 + self.minute*60 + self.second\n",
    "    \n",
    "    def __add__(self, other, /):\n",
    "        newtime = self.TimeInSecond() + other.TimeInSecond()\n",
    "        return TimeInterval(newtime//3600,(newtime//60)%60, newtime%60)\n",
    "          \n",
    "    def __sub__(self, other):\n",
    "        newtime = self.TimeInSecond() - other.TimeInSecond()\n",
    "        return TimeInterval(newtime//3600,(newtime//60)%60, newtime%60)\n",
    "    \n",
    "    def __add__(self, x):\n",
    "        newtime = self.TimeInSecond() + x\n",
    "        return TimeInterval(newtime//3600,(newtime//60)%60, newtime%60)\n",
    "    \n",
    "    def __sub__(self, x):\n",
    "        newtime = self.TimeInSecond() - x\n",
    "        return TimeInterval(newtime//3600,(newtime//60)%60, newtime%60)\n",
    "    \n",
    "    \n",
    "    def __mul__(self, x):\n",
    "        newtime = self.TimeInSecond()*x\n",
    "        return TimeInterval(newtime//3600,(newtime//60)%60, newtime%60)\n",
    "\n",
    "try:\n",
    "    t=TimeInterval(\"s\", 58, 50)\n",
    "    t=TimeInterval(21, 58, 50)\n",
    "    t1=TimeInterval(1, 45, 22)\n",
    "    print(t+68)\n",
    "    print(t1-48)\n",
    "except TypeError:\n",
    "    print(\"You provided a wrong input.\")\n"
   ]
  },
  {
   "cell_type": "markdown",
   "id": "47656a65",
   "metadata": {},
   "source": [
    "Decorator"
   ]
  },
  {
   "cell_type": "code",
   "execution_count": 3,
   "id": "77084b94",
   "metadata": {},
   "outputs": [
    {
     "name": "stdout",
     "output_type": "stream",
     "text": [
      "Excuting function addition at 2022-05-10 21:15:10\n",
      "12\n",
      "Excuting function multiply at 2022-05-10 21:15:10\n",
      "35\n"
     ]
    }
   ],
   "source": [
    "from datetime import datetime as dt\n",
    "today = dt.today().strftime(\"%Y-%m-%d %H:%M:%S\")\n",
    "\n",
    "def add_timestamp(time):\n",
    "    def wrapper(our_function):\n",
    "        def inner_wrapper(*args):\n",
    "            print(f'Excuting function {our_function.__name__} at {time}')\n",
    "            print(our_function(*args))\n",
    "        return inner_wrapper\n",
    "    return wrapper\n",
    "\n",
    "@add_timestamp(today)\n",
    "def addition(a, b):\n",
    "    return a+b\n",
    "\n",
    "@add_timestamp(today)\n",
    "def multiply(a, b):\n",
    "    return a*b\n",
    "\n",
    "addition(3, 9)\n",
    "multiply(5, 7)"
   ]
  },
  {
   "cell_type": "markdown",
   "id": "53077dce",
   "metadata": {},
   "source": [
    "class method"
   ]
  },
  {
   "cell_type": "code",
   "execution_count": 8,
   "id": "60755828",
   "metadata": {},
   "outputs": [
    {
     "data": {
      "text/plain": [
       "2"
      ]
     },
     "execution_count": 8,
     "metadata": {},
     "output_type": "execute_result"
    }
   ],
   "source": [
    "class EngravingError(BaseException):\n",
    "    pass\n",
    "\n",
    "class Watch:\n",
    "    watch_created = 0\n",
    "    def __init__(self):\n",
    "        Watch.watch_created += 1\n",
    "               \n",
    "    def get_number_of_watches_created():\n",
    "        return Watch.watch_created\n",
    "    \n",
    "    @classmethod\n",
    "    def including_engraving(cls, engraving):\n",
    "        _watch = cls()\n",
    "        _watch.engraving = engraving\n",
    "            \n",
    "        if len(_watch.engraving)>40:\n",
    "            raise EngravingError\n",
    "        for char in _watch.engraving:\n",
    "            if not char.isalnum():\n",
    "                raise EngravingError\n",
    "        return _watch                      \n",
    "        \n",
    "try:           \n",
    "    w1=Watch()\n",
    "    w2=Watch.including_engraving(\"testclassmethod\")\n",
    "except EngravingError:\n",
    "    print(\"Engraving information is not acceptable!\")\n",
    "\n",
    "Watch.get_number_of_watches_created()"
   ]
  },
  {
   "cell_type": "code",
   "execution_count": 1,
   "id": "8ddef2a9",
   "metadata": {},
   "outputs": [],
   "source": [
    "class AccountError(Exception):\n",
    "    pass\n",
    "\n",
    "class Account:\n",
    "    def __init__(self, number):\n",
    "        self.__number = number\n",
    "        self.__balance = 0\n",
    "    \n",
    "    @property\n",
    "    def balance(self):\n",
    "        return self.__balance\n",
    "   \n",
    "    @balance.setter\n",
    "    def balance(self, amount):\n",
    "        if amount > 0:\n",
    "            if amount < 1000000:\n",
    "                self.__balance = amount\n",
    "            else:\n",
    "                print(\"Alert, balance above 1000000\")\n",
    "        elif amount < 0:\n",
    "            raise AccountError (\"Account balance can not be negative\")\n",
    "            \n",
    "a=Account(10)\n"
   ]
  },
  {
   "cell_type": "code",
   "execution_count": 2,
   "id": "6b943cd5",
   "metadata": {},
   "outputs": [
    {
     "name": "stdout",
     "output_type": "stream",
     "text": [
      "Account balance can not be negative\n"
     ]
    }
   ],
   "source": [
    "try:\n",
    "    a.balance =-110\n",
    "except AccountError as e:\n",
    "    print(e)"
   ]
  },
  {
   "cell_type": "code",
   "execution_count": 4,
   "id": "5bdf1343",
   "metadata": {},
   "outputs": [
    {
     "name": "stdout",
     "output_type": "stream",
     "text": [
      "Alert, balance above 1000000\n"
     ]
    }
   ],
   "source": [
    "try:\n",
    "    a.balance =10000000\n",
    "except AccountError as e:\n",
    "    print(e)"
   ]
  },
  {
   "cell_type": "code",
   "execution_count": 6,
   "id": "f3a832f0",
   "metadata": {},
   "outputs": [],
   "source": [
    "a.balance=500"
   ]
  },
  {
   "cell_type": "code",
   "execution_count": 7,
   "id": "809f6de9",
   "metadata": {},
   "outputs": [
    {
     "data": {
      "text/plain": [
       "500"
      ]
     },
     "execution_count": 7,
     "metadata": {},
     "output_type": "execute_result"
    }
   ],
   "source": [
    "a.balance"
   ]
  },
  {
   "cell_type": "code",
   "execution_count": null,
   "id": "c43e18e8",
   "metadata": {},
   "outputs": [],
   "source": []
  }
 ],
 "metadata": {
  "kernelspec": {
   "display_name": "Python 3 (ipykernel)",
   "language": "python",
   "name": "python3"
  },
  "language_info": {
   "codemirror_mode": {
    "name": "ipython",
    "version": 3
   },
   "file_extension": ".py",
   "mimetype": "text/x-python",
   "name": "python",
   "nbconvert_exporter": "python",
   "pygments_lexer": "ipython3",
   "version": "3.9.7"
  }
 },
 "nbformat": 4,
 "nbformat_minor": 5
}
