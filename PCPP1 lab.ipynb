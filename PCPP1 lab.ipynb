{
 "cells": [
  {
   "cell_type": "code",
   "execution_count": 5,
   "id": "2e2ad414",
   "metadata": {},
   "outputs": [
    {
     "name": "stdout",
     "output_type": "stream",
     "text": [
      "854\n",
      "300.29622368594073\n"
     ]
    }
   ],
   "source": [
    "import random\n",
    "\n",
    "class Apple:\n",
    "    counter = 0\n",
    "    weight = 0\n",
    "    \n",
    "    def __init__(self, weight):\n",
    "        self.weight = weight\n",
    "        Apple.counter +=1\n",
    "        Apple.weight += self.weight\n",
    "        \n",
    "apple1=Apple(random.uniform(0.2, 0.5))\n",
    "apple2=Apple(random.uniform(0.2, 0.5))\n",
    "\n",
    "while Apple.weight < 300:\n",
    "    apple = Apple(random.uniform(0.2, 0.5))\n",
    "        \n",
    "print(Apple.counter)\n",
    "print(Apple.weight)\n",
    "    "
   ]
  },
  {
   "cell_type": "code",
   "execution_count": 4,
   "id": "cc86c338",
   "metadata": {},
   "outputs": [
    {
     "name": "stdout",
     "output_type": "stream",
     "text": [
      "23:44:12\n",
      "20:13:28\n",
      "43:57:40\n"
     ]
    }
   ],
   "source": [
    "class TypeError(BaseException):\n",
    "    pass\n",
    "\n",
    "class TimeInterval:\n",
    "    def __init__(self, hour, minute, second):\n",
    "        self.hour = hour\n",
    "        self.minute = minute\n",
    "        self.second = second \n",
    "        if not isinstance(self.hour, int) or not isinstance(self.minute, int) or not isinstance(self.second, int):\n",
    "            raise TypeError\n",
    "            \n",
    "    def __str__(self):\n",
    "        return f\"{self.hour}:{self.minute}:{self.second}\"\n",
    "                \n",
    "    def TimeInSecond(self):\n",
    "        return self.hour*3600 + self.minute*60 + self.second\n",
    "    \n",
    "    def __add__(self, other, /):\n",
    "        newtime = self.TimeInSecond() + other.TimeInSecond()\n",
    "        return TimeInterval(newtime//3600,(newtime//60)%60, newtime%60)\n",
    "          \n",
    "    def __sub__(self, other):\n",
    "        newtime = self.TimeInSecond() - other.TimeInSecond()\n",
    "        return TimeInterval(newtime//3600,(newtime//60)%60, newtime%60)\n",
    "    \n",
    "    def __mul__(self, x):\n",
    "        newtime = self.TimeInSecond()*x\n",
    "        return TimeInterval(newtime//3600,(newtime//60)%60, newtime%60)\n",
    "\n",
    "t=TimeInterval(21, 58, 50)\n",
    "t1=TimeInterval(1, 45, 22)\n",
    "\n",
    "\n",
    "print(t+t1)\n",
    "print(t-t1)\n",
    "print(t*2)\n"
   ]
  },
  {
   "cell_type": "code",
   "execution_count": 1,
   "id": "fa054995",
   "metadata": {},
   "outputs": [
    {
     "name": "stdout",
     "output_type": "stream",
     "text": [
      "You provided a wrong input.\n"
     ]
    }
   ],
   "source": [
    "class TypeError(BaseException):\n",
    "    pass\n",
    "\n",
    "class TimeInterval:\n",
    "    def __init__(self, hour, minute, second):\n",
    "        self.hour = hour\n",
    "        self.minute = minute\n",
    "        self.second = second \n",
    "        if not isinstance(self.hour, int) or not isinstance(self.minute, int) or not isinstance(self.second, int):\n",
    "            raise TypeError\n",
    "            \n",
    "    def __str__(self):\n",
    "        return f\"{self.hour}:{self.minute}:{self.second}\"\n",
    "                \n",
    "    def TimeInSecond(self):\n",
    "        return self.hour*3600 + self.minute*60 + self.second\n",
    "    \n",
    "    def __add__(self, other, /):\n",
    "        newtime = self.TimeInSecond() + other.TimeInSecond()\n",
    "        return TimeInterval(newtime//3600,(newtime//60)%60, newtime%60)\n",
    "          \n",
    "    def __sub__(self, other):\n",
    "        newtime = self.TimeInSecond() - other.TimeInSecond()\n",
    "        return TimeInterval(newtime//3600,(newtime//60)%60, newtime%60)\n",
    "    \n",
    "    def __add__(self, x):\n",
    "        newtime = self.TimeInSecond() + x\n",
    "        return TimeInterval(newtime//3600,(newtime//60)%60, newtime%60)\n",
    "    \n",
    "    def __sub__(self, x):\n",
    "        newtime = self.TimeInSecond() - x\n",
    "        return TimeInterval(newtime//3600,(newtime//60)%60, newtime%60)\n",
    "    \n",
    "    \n",
    "    def __mul__(self, x):\n",
    "        newtime = self.TimeInSecond()*x\n",
    "        return TimeInterval(newtime//3600,(newtime//60)%60, newtime%60)\n",
    "\n",
    "try:\n",
    "    t=TimeInterval(\"s\", 58, 50)\n",
    "    t=TimeInterval(21, 58, 50)\n",
    "    t1=TimeInterval(1, 45, 22)\n",
    "    print(t+68)\n",
    "    print(t1-48)\n",
    "except TypeError:\n",
    "    print(\"You provided a wrong input.\")\n"
   ]
  },
  {
   "cell_type": "markdown",
   "id": "47656a65",
   "metadata": {},
   "source": [
    "Decorator"
   ]
  },
  {
   "cell_type": "code",
   "execution_count": 3,
   "id": "77084b94",
   "metadata": {},
   "outputs": [
    {
     "name": "stdout",
     "output_type": "stream",
     "text": [
      "Excuting function addition at 2022-05-10 21:15:10\n",
      "12\n",
      "Excuting function multiply at 2022-05-10 21:15:10\n",
      "35\n"
     ]
    }
   ],
   "source": [
    "from datetime import datetime as dt\n",
    "today = dt.today().strftime(\"%Y-%m-%d %H:%M:%S\")\n",
    "\n",
    "def add_timestamp(time):\n",
    "    def wrapper(our_function):\n",
    "        def inner_wrapper(*args):\n",
    "            print(f'Excuting function {our_function.__name__} at {time}')\n",
    "            print(our_function(*args))\n",
    "        return inner_wrapper\n",
    "    return wrapper\n",
    "\n",
    "@add_timestamp(today)\n",
    "def addition(a, b):\n",
    "    return a+b\n",
    "\n",
    "@add_timestamp(today)\n",
    "def multiply(a, b):\n",
    "    return a*b\n",
    "\n",
    "addition(3, 9)\n",
    "multiply(5, 7)"
   ]
  },
  {
   "cell_type": "markdown",
   "id": "53077dce",
   "metadata": {},
   "source": [
    "class method"
   ]
  },
  {
   "cell_type": "code",
   "execution_count": 8,
   "id": "60755828",
   "metadata": {},
   "outputs": [
    {
     "data": {
      "text/plain": [
       "2"
      ]
     },
     "execution_count": 8,
     "metadata": {},
     "output_type": "execute_result"
    }
   ],
   "source": [
    "class EngravingError(BaseException):\n",
    "    pass\n",
    "\n",
    "class Watch:\n",
    "    watch_created = 0\n",
    "    def __init__(self):\n",
    "        Watch.watch_created += 1\n",
    "               \n",
    "    def get_number_of_watches_created():\n",
    "        return Watch.watch_created\n",
    "    \n",
    "    @classmethod\n",
    "    def including_engraving(cls, engraving):\n",
    "        _watch = cls()\n",
    "        _watch.engraving = engraving\n",
    "            \n",
    "        if len(_watch.engraving)>40:\n",
    "            raise EngravingError\n",
    "        for char in _watch.engraving:\n",
    "            if not char.isalnum():\n",
    "                raise EngravingError\n",
    "        return _watch                      \n",
    "        \n",
    "try:           \n",
    "    w1=Watch()\n",
    "    w2=Watch.including_engraving(\"testclassmethod\")\n",
    "except EngravingError:\n",
    "    print(\"Engraving information is not acceptable!\")\n",
    "\n",
    "Watch.get_number_of_watches_created()"
   ]
  },
  {
   "cell_type": "code",
   "execution_count": 4,
   "id": "8ddef2a9",
   "metadata": {},
   "outputs": [
    {
     "name": "stdout",
     "output_type": "stream",
     "text": [
      "Account number can not be changed\n",
      "Current account balance is: 110\n",
      "Alert, balance above 1000000\n",
      "Account can not be deleted\n"
     ]
    }
   ],
   "source": [
    "class AccountError(Exception):\n",
    "    pass\n",
    "\n",
    "class Account:\n",
    "    def __init__(self, number):\n",
    "        self.__number = number\n",
    "        self.__balance = 0\n",
    "    \n",
    "    @property\n",
    "    def number(self):\n",
    "        return self.__number\n",
    "    \n",
    "    @property\n",
    "    def balance(self):\n",
    "        return self.__balance\n",
    "    \n",
    "    @number.setter\n",
    "    def number(self, x):\n",
    "        raise AccountError(\"Account number can not be changed\")\n",
    "        \n",
    "    @balance.setter\n",
    "    def balance(self, amount):\n",
    "        if amount >= 0:\n",
    "            if amount < 1000000:\n",
    "                self.__balance = amount\n",
    "            else:\n",
    "                print(\"Alert, balance above 1000000\")\n",
    "                \n",
    "        elif amount < 0:\n",
    "            raise AccountError (\"Account balance can not be negative\")\n",
    "            \n",
    "    @balance.deleter\n",
    "    def balance(self):\n",
    "        self.__balance = None\n",
    "        \n",
    "    @number.deleter\n",
    "    def number(self):\n",
    "        if self.__balance == 0:\n",
    "            self.__number = None\n",
    "        else:\n",
    "            raise AccountError (\"Account can not be deleted\")\n",
    "\n",
    "            \n",
    "account = Account(1234)\n",
    "\n",
    "try:\n",
    "    account.number =110\n",
    "except AccountError as e:\n",
    "    print(e)    \n",
    "\n",
    "try:\n",
    "    account.balance =110\n",
    "except AccountError as e:\n",
    "    print(e)    \n",
    "\n",
    "print(\"Current account balance is:\", account.balance)\n",
    "\n",
    "try:\n",
    "    account.balance =10000000\n",
    "except AccountError as e:\n",
    "    print(e)\n",
    "    \n",
    "try:\n",
    "    del account.number\n",
    "except AccountError as e:\n",
    "    print(e)"
   ]
  },
  {
   "cell_type": "code",
   "execution_count": 1,
   "id": "0ca80bbc",
   "metadata": {},
   "outputs": [],
   "source": [
    "class Tire:\n",
    "    def __init__(self, size):\n",
    "        self.size = size\n",
    "        self.pressure = 0\n",
    "        \n",
    "    def __str__(self):\n",
    "        return f\"size {self.size} tire\"\n",
    "        \n",
    "    def get_pressure(self):\n",
    "        return self.pressure\n",
    "    \n",
    "    def pump(self, level):\n",
    "        self.pressure = level\n",
    "        \n",
    "class Engine:\n",
    "    \n",
    "    state = \"off\"\n",
    "    def __init__(self, fuel):\n",
    "        self.fuel = fuel\n",
    "        \n",
    "    def __str__(self):\n",
    "        return f\"{self.fuel} engine\" \n",
    "    \n",
    "    def start(self): \n",
    "        print(f\"Starting {self.fuel} engine.\")\n",
    "        Engine.state = \"On\"\n",
    "           \n",
    "    def stop(self):\n",
    "        print(f\"{self.fuel} engine stopped\")\n",
    "        Engine.state = \"Off\"\n",
    "        \n",
    "    def get_state(self):\n",
    "        return Engine.state\n",
    "            \n",
    "class Vehicle:\n",
    "    def __init__(self, VIN, engine, tires):\n",
    "        self.VIN = VIN\n",
    "        self.engine = engine\n",
    "        self.tires = tires\n",
    "        \n",
    "    def __str__(self):\n",
    "        return f\"car {self.VIN} is equiped with {self.engine} and {self.tires}.\"\n",
    "              \n",
    "city_tire = Tire(15)\n",
    "off_road_tire = Tire(18)\n",
    "\n",
    "electronic_engine = Engine(\"electronic\")\n",
    "petrol_engine = Engine(\"petrol\")\n",
    "\n",
    "city_car = Vehicle(\"123\", electronic_engine, city_tire)\n",
    "all_terrin_car = Vehicle(\"345\", petrol_engine, off_road_tire)\n"
   ]
  },
  {
   "cell_type": "code",
   "execution_count": 4,
   "id": "61ed444a",
   "metadata": {},
   "outputs": [
    {
     "name": "stdout",
     "output_type": "stream",
     "text": [
      "Starting electronic engine.\n",
      "car 123 is equiped with electronic engine and size 15 tire.\n"
     ]
    }
   ],
   "source": [
    "city_car.engine.start()\n",
    "print(city_car)"
   ]
  },
  {
   "cell_type": "code",
   "execution_count": 5,
   "id": "9c239610",
   "metadata": {},
   "outputs": [
    {
     "name": "stdout",
     "output_type": "stream",
     "text": [
      "petrol engine stopped\n"
     ]
    },
    {
     "data": {
      "text/plain": [
       "'Off'"
      ]
     },
     "execution_count": 5,
     "metadata": {},
     "output_type": "execute_result"
    }
   ],
   "source": [
    "all_terrin_car.engine.stop()\n",
    "\n",
    "all_terrin_car.engine.get_state()"
   ]
  },
  {
   "cell_type": "code",
   "execution_count": 6,
   "id": "a5b001f7",
   "metadata": {},
   "outputs": [
    {
     "name": "stdout",
     "output_type": "stream",
     "text": [
      "Original price:\n",
      "name: Lolly Pop; price: 0.4; weight: 133\n",
      "name: Licorice; price: 0.1; weight: 251\n",
      "name: Chocolate; price: 1; weight: 601\n",
      "name: Sours; price: 0.01; weight: 513\n",
      "name: Hard candies; price: 0.3; weight: 433\n",
      "****************************************\n",
      "Price proposal:\n",
      "name: Lolly Pop; price: 0.4; weight: 133\n",
      "name: Licorice; price: 0.1; weight: 251\n",
      "name: Chocolate; price: 0.8; weight: 601\n",
      "name: Sours; price: 0.008; weight: 513\n",
      "name: Hard candies; price: 0.24; weight: 433\n"
     ]
    }
   ],
   "source": [
    "class Delicacy:\n",
    "    def __init__(self, name, price, weight):\n",
    "        self.name = name\n",
    "        self.price = price\n",
    "        self.weight = weight\n",
    "        \n",
    "    def __str__(self):\n",
    "        return f\"name: {self.name}; price: {self.price}; weight: {self.weight}\"\n",
    "\n",
    "warehouse = list()\n",
    "warehouse.append({'name': 'Lolly Pop', 'price': 0.4, 'weight': 133})\n",
    "warehouse.append({'name': 'Licorice', 'price': 0.1, 'weight': 251})\n",
    "warehouse.append({'name': 'Chocolate', 'price': 1, 'weight': 601})\n",
    "warehouse.append({'name': 'Sours', 'price': 0.01, 'weight': 513})\n",
    "warehouse.append({'name': 'Hard candies', 'price': 0.3, 'weight': 433})\n",
    "\n",
    "delicacy_list=[]\n",
    "for item in warehouse:\n",
    "    delicacy = Delicacy(item[\"name\"], item[\"price\"], item[\"weight\"])\n",
    "    delicacy_list.append(delicacy)\n",
    "    \n",
    "import copy\n",
    "delicacy_list_copy = copy.deepcopy(delicacy_list)\n",
    "\n",
    "for item in delicacy_list_copy:\n",
    "    if item.weight >= 300:\n",
    "        item.price = item.price*0.8\n",
    "        \n",
    "print(\"Original price:\")\n",
    "for item in delicacy_list:\n",
    "    print(item)\n",
    "    \n",
    "print(\"*\"*40)\n",
    "print(\"Price proposal:\")\n",
    "for item in delicacy_list_copy:\n",
    "    print(item)"
   ]
  },
  {
   "cell_type": "code",
   "execution_count": 7,
   "id": "1615612e",
   "metadata": {},
   "outputs": [
    {
     "name": "stdout",
     "output_type": "stream",
     "text": [
      "Original price:\n",
      "name: Lolly Pop; price: 0.4; weight: 133\n",
      "name: Licorice; price: 0.1; weight: 251\n",
      "name: Chocolate; price: 1; weight: 601\n",
      "name: Sours; price: 0.01; weight: 513\n",
      "name: Hard candies; price: 0.3; weight: 433\n",
      "****************************************\n",
      "Price proposal:\n",
      "name: Lolly Pop; price: 0.4; weight: 133\n",
      "name: Licorice; price: 0.1; weight: 251\n",
      "name: Chocolate; price: 0.48; weight: 601\n",
      "name: Sours; price: 0.0048; weight: 513\n",
      "name: Hard candies; price: 0.24; weight: 433\n"
     ]
    }
   ],
   "source": [
    "for item in delicacy_list_copy:\n",
    "    if item.weight >= 500:\n",
    "        item.price = item.price*0.6\n",
    "        \n",
    "print(\"Original price:\")\n",
    "for item in delicacy_list:\n",
    "    print(item)\n",
    "    \n",
    "print(\"*\"*40)\n",
    "print(\"Price proposal:\")\n",
    "for item in delicacy_list_copy:\n",
    "    print(item)"
   ]
  },
  {
   "cell_type": "code",
   "execution_count": 1,
   "id": "7e73619c",
   "metadata": {},
   "outputs": [],
   "source": [
    "import sys\n",
    "import socket\n",
    "\n",
    "\n",
    "def sitecheck():\n",
    "    site_addr = input(\"What server do you want to connect to? \")\n",
    "    port = int(input(\"What port you want to connect to?\"))\n",
    "    sock = socket.socket(socket.AF_INET, socket.SOCK_STREAM)\n",
    "    sock.connect((site_addr, port))\n",
    "    sock.send(b\"HEAD / HTTP/1.1\\r\\nHost: \" +\n",
    "              bytes(site_addr, \"utf8\") +\n",
    "              b\"\\r\\nConnection: close\\r\\n\\r\\n\")\n",
    "    reply = sock.recv(10000)\n",
    "    sock.shutdown(socket.SHUT_RDWR)\n",
    "    sock.close()\n",
    "    print(repr(reply))\n",
    "\n",
    "if len(sys.argv) not in [2, 3]:\n",
    "    sitecheck()\n"
   ]
  },
  {
   "cell_type": "code",
   "execution_count": 2,
   "id": "6891028d",
   "metadata": {},
   "outputs": [
    {
     "name": "stdout",
     "output_type": "stream",
     "text": [
      "1543.2\n",
      "1543.2\n",
      "<class '__main__.Vehicle'>\n"
     ]
    }
   ],
   "source": [
    "import json\n",
    "\n",
    "\n",
    "class Vehicle:\n",
    "    def __init__(self, registration_number, year, passenger, mass):\n",
    "        self.registration_number = registration_number\n",
    "        self.year = year\n",
    "        self.passenger = passenger\n",
    "        self.mass = mass\n",
    "        \n",
    "class MyEncoder(json.JSONEncoder):\n",
    "    def default(self, v):\n",
    "        if isinstance(v, Vehicle):\n",
    "            return v.__dict__\n",
    "        else:\n",
    "            return super().default(self, v)\n",
    "\n",
    "        \n",
    "class MyDecoder(json.JSONDecoder):\n",
    "    def __init__(self):\n",
    "        json.JSONDecoder.__init__(self, object_hook=self.decode_vehicle)\n",
    "        \n",
    "    def decode_vehicle(self, v):\n",
    "        return Vehicle(**v)\n",
    "\n",
    "my_car = Vehicle(\"PC389277\", \"2018\", \"False\", \"1543.2\" )\n",
    "print(my_car.mass)\n",
    "js_str_car = json.dumps(my_car, cls=MyEncoder)\n",
    "new_car = json.loads(js_str_car, cls=MyDecoder)\n",
    "print(new_car.mass)\n",
    "print(type(my_car))"
   ]
  },
  {
   "cell_type": "code",
   "execution_count": 3,
   "id": "2e527f01",
   "metadata": {},
   "outputs": [
    {
     "name": "stdout",
     "output_type": "stream",
     "text": [
      "PC389277\n"
     ]
    }
   ],
   "source": [
    "print(my_car.registration_number)"
   ]
  },
  {
   "cell_type": "code",
   "execution_count": 4,
   "id": "bbffb265",
   "metadata": {},
   "outputs": [
    {
     "name": "stdout",
     "output_type": "stream",
     "text": [
      "Company                                            Last       Change     Min        Max        \n",
      "------------------------------------------------------------------------------------------\n",
      "3M Co                                              159.696    -0.384     161.255    159.38     \n",
      "Alcoa, Inc.                                        15.45      -0.1       15.59      15.15      \n",
      "American Express Co.                               132.04     0.22       132.5      131.35     \n",
      "Bank of America Corp.                              34.495     -0.115     34.65      34.38      \n",
      "Boeing Co. (The)                                   344.33     7.58       345.94     336.32     \n",
      "Caterpillar Inc.                                   134.075    0.705      134.3      132.78     \n",
      "Chevron Corporation                                108.86     -0.08      109.05     108.32     \n",
      "Cisco Systems, Inc.                                48.295     0.325      48.5       47.88      \n",
      "Coca-Cola Co (The)                                 59.795     0.605      59.825     59.285     \n",
      "Exxon Mobil Corp.\"                                 59.9522    -1.5178    60.52      59.83      \n",
      "General Electric Co                                12.865     0.035      12.97      12.77      \n",
      "Hewlett-Packard Co                                 22.15      0.42       22.87      22.03      \n",
      "Home Depot Inc                                     238.75     1.45       238.91     236.18     \n",
      "Intel Corporation                                  65.715     -0.305     65.96      65.44      \n",
      "International Business Machines Corp.              152.61     -0.8       153.516    151.58     \n",
      "McDonald's Corp                                    212.22     0.61       212.369    211.25     \n",
      "Microsoft Corporation                              187.15     3.26       187.3      183.25     \n",
      "Pfizer Inc                                         37.81      -0.24      38.22      37.785     \n",
      "Travelers Companies Inc (The)                      135.62     -0.39      136.27     135.14     \n",
      "United Technologies Corp.                          156.62     -0.21      157.98     156.31     \n",
      "Verizon Communications Inc                         59.995     0.055      60.19      59.77      \n",
      "Wal-Mart Stores, Inc.                              116.09     -0.36      116.98     115.58     \n",
      "Disney (Walt) Co. (The)                            141.6      0.58       141.76     140.46     \n"
     ]
    }
   ],
   "source": [
    "import elementpath\n",
    "from xml.etree import ElementTree\n",
    "\n",
    "columns = [\"Company\", \"Last\", \"Change\", \"Min\", \"Max\"]\n",
    "space = [50, 10, 10, 10, 10]\n",
    "\n",
    "def show_head():\n",
    "    for [c,s] in zip(columns, space):\n",
    "        print(c.ljust(s), end=\" \")\n",
    "    print()\n",
    "        \n",
    "def show_quote(q):\n",
    "    print(q.text.ljust(50), end=\" \")\n",
    "    print(q.attrib[\"last\"].ljust(10), end=\" \")\n",
    "    print(q.attrib[\"change\"].ljust(10), end=\" \")\n",
    "    print(q.attrib[\"min\"].ljust(10), end=\" \")\n",
    "    print(q.attrib[\"max\"].ljust(10), end=\" \")\n",
    "    print()\n",
    "\n",
    "tree = ElementTree.parse(\"nyse.xml\")\n",
    "stocks = tree.getroot()\n",
    "show_head()\n",
    "print(\"-\"*90)\n",
    "for quote in stocks:\n",
    "    show_quote(quote)    \n"
   ]
  },
  {
   "cell_type": "code",
   "execution_count": 1,
   "id": "47a1f562",
   "metadata": {},
   "outputs": [],
   "source": [
    "import xml.etree.ElementTree as ET\n",
    "\n",
    "class TemperatureConverter:\n",
    "    \n",
    "    def convert_celsius_to_fahrenheit(C):\n",
    "        return 9/5*C + 32\n",
    "    \n",
    "class ForecastXmParser:\n",
    "    \n",
    "    def parse(file):\n",
    "        tree = ET.parse(file)\n",
    "        root = tree.getroot()\n",
    "        for child in root:\n",
    "            print(f\"{child[0].text.ljust(10)}: {child[1].text} Celsius, {round(TemperatureConverter.convert_celsius_to_fahrenheit(int(child[1].text)),1)} Fahrenheit\")\n",
    "        "
   ]
  },
  {
   "cell_type": "code",
   "execution_count": 2,
   "id": "5dc64c13",
   "metadata": {},
   "outputs": [
    {
     "name": "stdout",
     "output_type": "stream",
     "text": [
      "Monday    : 28 Celsius, 82.4 Fahrenheit\n",
      "Tuesday   : 27 Celsius, 80.6 Fahrenheit\n",
      "Wednesday : 28 Celsius, 82.4 Fahrenheit\n",
      "Thursday  : 29 Celsius, 84.2 Fahrenheit\n",
      "Friday    : 29 Celsius, 84.2 Fahrenheit\n",
      "Saturday  : 31 Celsius, 87.8 Fahrenheit\n",
      "Sunday    : 32 Celsius, 89.6 Fahrenheit\n"
     ]
    }
   ],
   "source": [
    "ForecastXmParser.parse(\"forecast.xml\")"
   ]
  },
  {
   "cell_type": "code",
   "execution_count": 16,
   "id": "d543066f",
   "metadata": {},
   "outputs": [
    {
     "name": "stdout",
     "output_type": "stream",
     "text": [
      "<shop><category name=\"Vegan Products\"><product name=\"Good morning Sunshine\"><type>cereals</type><producer>OpenEDG Testing Service</producer><price>9.90</price><currency>USD</currency></product><product name=\"spaghetti\"><type>pasta</type><producer>Programmers Eat Pasta</producer><price>19.50</price><currency>EUR</currency></product><product name=\"Fantastic Almond Mild\"><type>beverage</type><producer>Drinks4Coders Inc.</producer><price>17.90</price><currency>USD</currency></product></category></shop>\n"
     ]
    }
   ],
   "source": [
    "#<?xml version=\"1.0\"?>\n",
    "import xml.etree.ElementTree as ET\n",
    "\n",
    "root = ET.Element(\"shop\")\n",
    "category = ET.SubElement(root, \"category\", {\"name\":\"Vegan Products\"})\n",
    "product_1 = ET.SubElement(category, \"product\", {\"name\":\"Good morning Sunshine\"})\n",
    "type_1 = ET.SubElement(product_1,\"type\") \n",
    "type_1.text = \"cereals\"\n",
    "producer_1 = ET.SubElement(product_1,\"producer\")\n",
    "producer_1.text = \"OpenEDG Testing Service\"\n",
    "price_1 =ET.SubElement(product_1,\"price\")\n",
    "price_1.text = \"9.90\"\n",
    "currency_1 =ET.SubElement(product_1,\"currency\")\n",
    "currency_1.text = \"USD\"\n",
    "product_2 = ET.SubElement(category, \"product\",{\"name\":\"spaghetti\"})\n",
    "type_2 = ET.SubElement(product_2,\"type\") \n",
    "type_2.text = \"pasta\"\n",
    "producer_2 = ET.SubElement(product_2,\"producer\")\n",
    "producer_2.text = \"Programmers Eat Pasta\"\n",
    "price_2 =ET.SubElement(product_2,\"price\")\n",
    "price_2.text = \"19.50\"\n",
    "currency_2 =ET.SubElement(product_2,\"currency\")\n",
    "currency_2.text = \"EUR\"\n",
    "product_3 = ET.SubElement(category, \"product\", {\"name\":\"Fantastic Almond Mild\"})\n",
    "type_3 = ET.SubElement(product_3,\"type\")\n",
    "type_3.text = \"beverage\"\n",
    "producer_3 = ET.SubElement(product_3,\"producer\")\n",
    "producer_3.text = \"Drinks4Coders Inc.\"\n",
    "price_3 =ET.SubElement(product_3,\"price\")\n",
    "price_3.text = \"17.90\"\n",
    "currency_3 =ET.SubElement(product_3,\"currency\")\n",
    "currency_3.text = \"USD\"\n",
    "\n",
    "ET.dump(root)\n",
    "tree = ET.ElementTree(root)\n",
    "tree.write(\"shop.xml\", \"UTF-8\", True)"
   ]
  },
  {
   "cell_type": "code",
   "execution_count": 24,
   "id": "1beeb645",
   "metadata": {},
   "outputs": [
    {
     "name": "stdout",
     "output_type": "stream",
     "text": [
      "<shop_new><category name=\"Vegan Products\"><product name=\"Good morning Sunshine\"><type>cereals</type><producer>OpenEDG Testing Services</producer><price>9.90</price><currency>USD</currency></product><product name=\"spaghetti\"><type>pasta</type><producer>Programmer Eat Pasta</producer><price>19.50</price><currency>EUR</currency></product><product name=\"Fantastic Almond Mild\"><type>beverage</type><producer>Drinks4Coders Inc.</producer><price>17.90</price><currency>USD</currency></product></category></shop_new>\n"
     ]
    }
   ],
   "source": [
    "#<?xml version=\"1.0\"?>\n",
    "import xml.etree.ElementTree as ET\n",
    "\n",
    "root = ET.Element(\"shop_new\")\n",
    "category = ET.SubElement(root, \"category\", {\"name\":\"Vegan Products\"})\n",
    "\n",
    "product_1 = ET.SubElement(category, \"product\", {\"name\":\"Good morning Sunshine\"})\n",
    "sub_category = [\"type\", \"producer\", \"price\", \"currency\"]\n",
    "text_1 = [\"cereals\", \"OpenEDG Testing Services\", \"9.90\", \"USD\"]\n",
    "for k,v in zip(sub_category, text_1):\n",
    "    k = ET.SubElement(product_1, k)\n",
    "    k.text = v\n",
    "\n",
    "product_2 = ET.SubElement(category, \"product\",{\"name\":\"spaghetti\"})\n",
    "text_2 = [\"pasta\", \"Programmer Eat Pasta\", \"19.50\", \"EUR\"]\n",
    "for k,v in zip(sub_category, text_2):\n",
    "    k = ET.SubElement(product_2, k)\n",
    "    k.text = v\n",
    "\n",
    "product_3 = ET.SubElement(category, \"product\", {\"name\":\"Fantastic Almond Mild\"})\n",
    "text_3 = [\"beverage\", \"Drinks4Coders Inc.\", \"17.90\", \"USD\"]\n",
    "for k,v in zip(sub_category, text_3):\n",
    "    k = ET.SubElement(product_3, k)\n",
    "    k.text = v\n",
    "\n",
    "ET.dump(root)\n",
    "tree = ET.ElementTree(root)\n",
    "tree.write(\"shop_new.xml\", \"UTF-8\", True)"
   ]
  },
  {
   "cell_type": "code",
   "execution_count": 23,
   "id": "eafab82e",
   "metadata": {},
   "outputs": [
    {
     "name": "stdout",
     "output_type": "stream",
     "text": [
      "<shop_new><category name=\"Vegan Products\"><product name=\"Good Morining Sunshine\" /><product name=\"Spaghetti\" /><product name=\"Fantastic Almond Mild\" /></category></shop_new>\n"
     ]
    }
   ],
   "source": [
    "#<?xml version=\"1.0\"?>\n",
    "import xml.etree.ElementTree as ET\n",
    "\n",
    "root = ET.Element(\"shop_new\")\n",
    "category = ET.SubElement(root, \"category\", {\"name\":\"Vegan Products\"})\n",
    "product_index = [\"product_1\", \"product_2\", \"product_3\"]\n",
    "product_name = [\"Good Morining Sunshine\", \"Spaghetti\", \"Fantastic Almond Mild\"]\n",
    "for k, v in zip(product_index, product_name):\n",
    "    k = ET.SubElement(category, \"product\", {\"name\": f\"{v}\"})\n",
    "\n",
    "sub_category = [\"type\", \"producer\", \"price\", \"currency\"]\n",
    "text_1 = [\"cereals\", \"OpenEDG Testing Services\", \"9.90\", \"USD\"]\n",
    "for key,value in zip(sub_category, text_1):\n",
    "    key = ET.SubElement(product_1, key)\n",
    "    key.text = value\n",
    "\n",
    "#product_2 = ET.SubElement(category, \"product\",{\"name\":\"spaghetti\"})\n",
    "text_2 = [\"pasta\", \"Programmer Eat Pasta\", \"19.50\", \"EUR\"]\n",
    "for k,v in zip(sub_category, text_2):\n",
    "    k = ET.SubElement(product_2, k)\n",
    "    k.text = v\n",
    "\n",
    "#product_3 = ET.SubElement(category, \"product\", {\"name\":\"Fantastic Almond Mild\"})\n",
    "text_3 = [\"beverage\", \"Drinks4Coders Inc.\", \"17.90\", \"USD\"]\n",
    "for k,v in zip(sub_category, text_3):\n",
    "    k = ET.SubElement(product_3, k)\n",
    "    k.text = v\n",
    "\n",
    "ET.dump(root)\n",
    "tree = ET.ElementTree(root)\n",
    "tree.write(\"shop_new.xml\", \"UTF-8\", True)"
   ]
  },
  {
   "cell_type": "code",
   "execution_count": 44,
   "id": "80094a5c",
   "metadata": {},
   "outputs": [],
   "source": [
    "import csv\n",
    "\n",
    "\n",
    "class PhoneContact:\n",
    "    def __init__(self, name, phone):\n",
    "        self.name = name\n",
    "        self.phone = phone\n",
    "        \n",
    "    def __str__(self):\n",
    "        return (self.name+\":\").ljust(16)+self.phone\n",
    "        \n",
    "        \n",
    "class Phone:\n",
    "    contacts = []\n",
    "    def load_contacts_from_csv(file):\n",
    "        with open(file, newline=\"\") as csvfile:\n",
    "            reader = csv.reader(csvfile, delimiter=\",\")\n",
    "            for row in reader:\n",
    "                contact = PhoneContact(row[0], row[1])\n",
    "                Phone.contacts.append(contact)     \n",
    "                                                 \n",
    "    def search_contacts():\n",
    "        word = input(\"Enter the word to search: \")\n",
    "        file = input(\"Enter the file\")\n",
    "        with open(file, newline=\"\") as csvfile:\n",
    "            reader = csv.reader(csvfile, delimiter=\",\")\n",
    "            for row in reader:\n",
    "                if word in row[0]:\n",
    "                    print(row[0],\":\", row[1])\n",
    "                elif word in row[1]:\n",
    "                    print(row[0],\":\", row[1])   \n",
    "            else:\n",
    "                print(\"No contacts found\")\n",
    "                    \n",
    "        "
   ]
  },
  {
   "cell_type": "code",
   "execution_count": 46,
   "id": "b634413f",
   "metadata": {},
   "outputs": [],
   "source": [
    "Phone.load_contacts_from_csv(\"contacts.csv\")"
   ]
  },
  {
   "cell_type": "code",
   "execution_count": 49,
   "id": "3d19854b",
   "metadata": {},
   "outputs": [
    {
     "name": "stdout",
     "output_type": "stream",
     "text": [
      "Name:           Phone\n",
      "mother:         222-555-101\n",
      "father:         222-555-102\n",
      "wife:           222-555-103\n",
      "mother-in-law:  222-555-104\n"
     ]
    }
   ],
   "source": [
    "for contact in Phone.contacts:\n",
    "    print(contact)"
   ]
  },
  {
   "cell_type": "code",
   "execution_count": 51,
   "id": "c81d165d",
   "metadata": {},
   "outputs": [],
   "source": [
    "import csv\n",
    "\n",
    "class Exam:\n",
    "    def __init__(self, Name, ID, Score, Grade):\n",
    "        self.Name = Name\n",
    "        self.ID = ID\n",
    "        self.Score = Score\n",
    "        self.Grade = Grade\n",
    "           \n",
    "results = []\n",
    "with open(\"exam_results.csv\", newline=\"\") as csvfile:\n",
    "    reader = csv.reader(csvfile, delimiter=\",\")\n",
    "    for row in reader:\n",
    "        result = Exam(row[0], row[1], row[2], row[3])\n",
    "        results.append(result)    \n",
    "\n",
    "maths_results = [result for result in results if result.Name==\"Maths\"]\n",
    "unique_math_ID=[]\n",
    "for result in maths_results:\n",
    "    if result.ID not in unique_math_ID:\n",
    "        unique_math_ID.append(result.ID)\n",
    "    number_of_math_test = len(unique_math_ID)\n",
    "    number_of_math_pass = len([result for result in maths_results if result.Grade==\"Pass\"])\n",
    "    number_of_math_fail = len([result for result in maths_results if result.Grade==\"Fail\"])\n",
    "    math_scores = [result.Score for result in maths_results]\n",
    "    max_math = max(math_scores)\n",
    "    min_math = min(math_scores)\n",
    "\n",
    "biology_results = [result for result in results if result.Name==\"Biology\"]\n",
    "unique_biology_ID=[]\n",
    "for result in biology_results:\n",
    "    if result.ID not in unique_biology_ID:\n",
    "        unique_biology_ID.append(result.ID)\n",
    "    number_of_biology_test = len(unique_biology_ID)\n",
    "    number_of_biology_pass = len([result for result in biology_results if result.Grade==\"Pass\"])\n",
    "    number_of_biology_fail = len([result for result in biology_results if result.Grade==\"Fail\"])\n",
    "    biology_scores = [result.Score for result in biology_results]\n",
    "    max_biology = max(biology_scores)\n",
    "    min_biology = min(biology_scores)\n",
    "    \n",
    "physics_results = [result for result in results if result.Name==\"Physics\"]\n",
    "unique_physics_ID=[]\n",
    "for result in physics_results:\n",
    "    if result.ID not in unique_physics_ID:\n",
    "        unique_physics_ID.append(result.ID)\n",
    "    number_of_physics_test = len(unique_physics_ID)\n",
    "    number_of_physics_pass = len([result for result in physics_results if result.Grade==\"Pass\"])\n",
    "    number_of_physics_fail = len([result for result in physics_results if result.Grade==\"Fail\"])\n",
    "    physics_scores = [result.Score for result in physics_results]\n",
    "    max_physics = max(physics_scores)\n",
    "    min_physics = min(physics_scores)\n",
    "    \n",
    "with open(\"exam_reports.csv\", \"w\", newline=\"\") as newcsvfile:\n",
    "    writer = csv.writer(newcsvfile, delimiter=\",\")\n",
    "    \n",
    "    writer.writerow([\"Exam Name\", \"Number of Candidates\", \"Number of Passed ExamsPhone\", \"Number of Failed Exams\", \"Best Score\", \"Worse Score\"])\n",
    "    writer.writerow([\"Maths\", f\"{number_of_math_test}\", f\"{number_of_math_pass}\", f\"{number_of_math_fail}\", f\"{max_math}\",f\"{min_math}\"])\n",
    "    writer.writerow([\"Physics\", f\"{number_of_physics_test}\", f\"{number_of_physics_pass}\", f\"{number_of_physics_fail}\", f\"{max_physics}\",f\"{min_physics}\"])\n",
    "    writer.writerow([\"Biology\", f\"{number_of_biology_test}\", f\"{number_of_biology_pass}\", f\"{number_of_biology_fail}\", f\"{max_biology}\",f\"{min_biology}\"])"
   ]
  },
  {
   "cell_type": "code",
   "execution_count": 2,
   "id": "934a4900",
   "metadata": {},
   "outputs": [],
   "source": [
    "import csv\n",
    "\n",
    "\n",
    "class Exam:\n",
    "    results = []\n",
    "    def __init__(self, Name, ID, Score, Grade):\n",
    "        self.Name = Name\n",
    "        self.ID = ID\n",
    "        self.Score = Score\n",
    "        self.Grade = Grade\n",
    "        \n",
    "    def get_exam_results():\n",
    "        with open(\"exam_results.csv\", newline=\"\") as csvfile:\n",
    "            reader = csv.reader(csvfile, delimiter=\",\")\n",
    "            for row in reader:\n",
    "                result = Exam(row[0], row[1], row[2], row[3])\n",
    "                Exam.results.append(result)  \n",
    "\n",
    "def get_results(subject):\n",
    "    results = [result for result in Exam.results if result.Name==f\"{subject}\"]\n",
    "    return results\n",
    "    \n",
    "def get_number_of_candidate(subject):\n",
    "    unique_candidate_IDs=[]\n",
    "    for result in results:\n",
    "        if result.ID not in unique_candidate_IDs:\n",
    "            unique_candidate_IDs.append(result.ID)\n",
    "    return len(unique_candidate_IDs)\n",
    "\n",
    "def get_number_of_exam_passed(subject):\n",
    "    exam_passed = [result for result in results if result.Grade==\"Pass\"]\n",
    "    return len(exam_passed)\n",
    "\n",
    "def get_number_of_exam_failed(subject):\n",
    "    exam_failed = [result for result in results if result.Grade==\"Fail\"]\n",
    "    return len(exam_failed)\n",
    "\n",
    "\n",
    "Exam.get_exam_results()\n",
    "with open(\"new_exam_reports.csv\", \"w\", newline=\"\") as file:\n",
    "    writer = csv.writer(file, delimiter=\",\")\n",
    "    \n",
    "    writer.writerow([\"Exam Name\", \"Number of Candidates\", \"Number of Passed Exams\", \n",
    "                     \"Number of Failed Exams\", \"Best Score\", \"Worse Score\"])\n",
    "    for subject in [\"Maths\", \"Physics\", \"Biology\"]:\n",
    "        results = get_results(subject)\n",
    "        scores = [result.Score for result in results]\n",
    "        writer.writerow([f\"{subject}\",f\"{get_number_of_candidate(subject)}\", \n",
    "                         f\"{get_number_of_exam_passed(subject)}\", f\"{get_number_of_exam_failed(subject)}\", \n",
    "                         f\"{max(scores)}\", f\"{min(scores)}\"])"
   ]
  },
  {
   "cell_type": "code",
   "execution_count": null,
   "id": "fa1f8db4",
   "metadata": {},
   "outputs": [],
   "source": []
  }
 ],
 "metadata": {
  "kernelspec": {
   "display_name": "Python 3 (ipykernel)",
   "language": "python",
   "name": "python3"
  },
  "language_info": {
   "codemirror_mode": {
    "name": "ipython",
    "version": 3
   },
   "file_extension": ".py",
   "mimetype": "text/x-python",
   "name": "python",
   "nbconvert_exporter": "python",
   "pygments_lexer": "ipython3",
   "version": "3.9.7"
  }
 },
 "nbformat": 4,
 "nbformat_minor": 5
}
