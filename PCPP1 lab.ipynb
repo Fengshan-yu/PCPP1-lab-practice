{
 "cells": [
  {
   "cell_type": "code",
   "execution_count": 5,
   "id": "2e2ad414",
   "metadata": {},
   "outputs": [
    {
     "name": "stdout",
     "output_type": "stream",
     "text": [
      "854\n",
      "300.29622368594073\n"
     ]
    }
   ],
   "source": [
    "import random\n",
    "\n",
    "class Apple:\n",
    "    counter = 0\n",
    "    weight = 0\n",
    "    \n",
    "    def __init__(self, weight):\n",
    "        self.weight = weight\n",
    "        Apple.counter +=1\n",
    "        Apple.weight += self.weight\n",
    "        \n",
    "apple1=Apple(random.uniform(0.2, 0.5))\n",
    "apple2=Apple(random.uniform(0.2, 0.5))\n",
    "\n",
    "while Apple.weight < 300:\n",
    "    apple = Apple(random.uniform(0.2, 0.5))\n",
    "        \n",
    "print(Apple.counter)\n",
    "print(Apple.weight)\n",
    "    "
   ]
  },
  {
   "cell_type": "code",
   "execution_count": 4,
   "id": "cc86c338",
   "metadata": {},
   "outputs": [
    {
     "name": "stdout",
     "output_type": "stream",
     "text": [
      "23:44:12\n",
      "20:13:28\n",
      "43:57:40\n"
     ]
    }
   ],
   "source": [
    "class TypeError(BaseException):\n",
    "    pass\n",
    "\n",
    "class TimeInterval:\n",
    "    def __init__(self, hour, minute, second):\n",
    "        self.hour = hour\n",
    "        self.minute = minute\n",
    "        self.second = second \n",
    "        if not isinstance(self.hour, int) or not isinstance(self.minute, int) or not isinstance(self.second, int):\n",
    "            raise TypeError\n",
    "            \n",
    "    def __str__(self):\n",
    "        return f\"{self.hour}:{self.minute}:{self.second}\"\n",
    "                \n",
    "    def TimeInSecond(self):\n",
    "        return self.hour*3600 + self.minute*60 + self.second\n",
    "    \n",
    "    def __add__(self, other, /):\n",
    "        newtime = self.TimeInSecond() + other.TimeInSecond()\n",
    "        return TimeInterval(newtime//3600,(newtime//60)%60, newtime%60)\n",
    "          \n",
    "    def __sub__(self, other):\n",
    "        newtime = self.TimeInSecond() - other.TimeInSecond()\n",
    "        return TimeInterval(newtime//3600,(newtime//60)%60, newtime%60)\n",
    "    \n",
    "    def __mul__(self, x):\n",
    "        newtime = self.TimeInSecond()*x\n",
    "        return TimeInterval(newtime//3600,(newtime//60)%60, newtime%60)\n",
    "\n",
    "t=TimeInterval(21, 58, 50)\n",
    "t1=TimeInterval(1, 45, 22)\n",
    "\n",
    "\n",
    "print(t+t1)\n",
    "print(t-t1)\n",
    "print(t*2)\n"
   ]
  },
  {
   "cell_type": "code",
   "execution_count": 1,
   "id": "fa054995",
   "metadata": {},
   "outputs": [
    {
     "name": "stdout",
     "output_type": "stream",
     "text": [
      "You provided a wrong input.\n"
     ]
    }
   ],
   "source": [
    "class TypeError(BaseException):\n",
    "    pass\n",
    "\n",
    "class TimeInterval:\n",
    "    def __init__(self, hour, minute, second):\n",
    "        self.hour = hour\n",
    "        self.minute = minute\n",
    "        self.second = second \n",
    "        if not isinstance(self.hour, int) or not isinstance(self.minute, int) or not isinstance(self.second, int):\n",
    "            raise TypeError\n",
    "            \n",
    "    def __str__(self):\n",
    "        return f\"{self.hour}:{self.minute}:{self.second}\"\n",
    "                \n",
    "    def TimeInSecond(self):\n",
    "        return self.hour*3600 + self.minute*60 + self.second\n",
    "    \n",
    "    def __add__(self, other, /):\n",
    "        newtime = self.TimeInSecond() + other.TimeInSecond()\n",
    "        return TimeInterval(newtime//3600,(newtime//60)%60, newtime%60)\n",
    "          \n",
    "    def __sub__(self, other):\n",
    "        newtime = self.TimeInSecond() - other.TimeInSecond()\n",
    "        return TimeInterval(newtime//3600,(newtime//60)%60, newtime%60)\n",
    "    \n",
    "    def __add__(self, x):\n",
    "        newtime = self.TimeInSecond() + x\n",
    "        return TimeInterval(newtime//3600,(newtime//60)%60, newtime%60)\n",
    "    \n",
    "    def __sub__(self, x):\n",
    "        newtime = self.TimeInSecond() - x\n",
    "        return TimeInterval(newtime//3600,(newtime//60)%60, newtime%60)\n",
    "    \n",
    "    \n",
    "    def __mul__(self, x):\n",
    "        newtime = self.TimeInSecond()*x\n",
    "        return TimeInterval(newtime//3600,(newtime//60)%60, newtime%60)\n",
    "\n",
    "try:\n",
    "    t=TimeInterval(\"s\", 58, 50)\n",
    "    t=TimeInterval(21, 58, 50)\n",
    "    t1=TimeInterval(1, 45, 22)\n",
    "    print(t+68)\n",
    "    print(t1-48)\n",
    "except TypeError:\n",
    "    print(\"You provided a wrong input.\")\n"
   ]
  },
  {
   "cell_type": "markdown",
   "id": "47656a65",
   "metadata": {},
   "source": [
    "Decorator"
   ]
  },
  {
   "cell_type": "code",
   "execution_count": 3,
   "id": "77084b94",
   "metadata": {},
   "outputs": [
    {
     "name": "stdout",
     "output_type": "stream",
     "text": [
      "Excuting function addition at 2022-05-10 21:15:10\n",
      "12\n",
      "Excuting function multiply at 2022-05-10 21:15:10\n",
      "35\n"
     ]
    }
   ],
   "source": [
    "from datetime import datetime as dt\n",
    "today = dt.today().strftime(\"%Y-%m-%d %H:%M:%S\")\n",
    "\n",
    "def add_timestamp(time):\n",
    "    def wrapper(our_function):\n",
    "        def inner_wrapper(*args):\n",
    "            print(f'Excuting function {our_function.__name__} at {time}')\n",
    "            print(our_function(*args))\n",
    "        return inner_wrapper\n",
    "    return wrapper\n",
    "\n",
    "@add_timestamp(today)\n",
    "def addition(a, b):\n",
    "    return a+b\n",
    "\n",
    "@add_timestamp(today)\n",
    "def multiply(a, b):\n",
    "    return a*b\n",
    "\n",
    "addition(3, 9)\n",
    "multiply(5, 7)"
   ]
  },
  {
   "cell_type": "markdown",
   "id": "53077dce",
   "metadata": {},
   "source": [
    "class method"
   ]
  },
  {
   "cell_type": "code",
   "execution_count": 8,
   "id": "60755828",
   "metadata": {},
   "outputs": [
    {
     "data": {
      "text/plain": [
       "2"
      ]
     },
     "execution_count": 8,
     "metadata": {},
     "output_type": "execute_result"
    }
   ],
   "source": [
    "class EngravingError(BaseException):\n",
    "    pass\n",
    "\n",
    "class Watch:\n",
    "    watch_created = 0\n",
    "    def __init__(self):\n",
    "        Watch.watch_created += 1\n",
    "               \n",
    "    def get_number_of_watches_created():\n",
    "        return Watch.watch_created\n",
    "    \n",
    "    @classmethod\n",
    "    def including_engraving(cls, engraving):\n",
    "        _watch = cls()\n",
    "        _watch.engraving = engraving\n",
    "            \n",
    "        if len(_watch.engraving)>40:\n",
    "            raise EngravingError\n",
    "        for char in _watch.engraving:\n",
    "            if not char.isalnum():\n",
    "                raise EngravingError\n",
    "        return _watch                      \n",
    "        \n",
    "try:           \n",
    "    w1=Watch()\n",
    "    w2=Watch.including_engraving(\"testclassmethod\")\n",
    "except EngravingError:\n",
    "    print(\"Engraving information is not acceptable!\")\n",
    "\n",
    "Watch.get_number_of_watches_created()"
   ]
  },
  {
   "cell_type": "code",
   "execution_count": 4,
   "id": "8ddef2a9",
   "metadata": {},
   "outputs": [
    {
     "name": "stdout",
     "output_type": "stream",
     "text": [
      "Account number can not be changed\n",
      "Current account balance is: 110\n",
      "Alert, balance above 1000000\n",
      "Account can not be deleted\n"
     ]
    }
   ],
   "source": [
    "class AccountError(Exception):\n",
    "    pass\n",
    "\n",
    "class Account:\n",
    "    def __init__(self, number):\n",
    "        self.__number = number\n",
    "        self.__balance = 0\n",
    "    \n",
    "    @property\n",
    "    def number(self):\n",
    "        return self.__number\n",
    "    \n",
    "    @property\n",
    "    def balance(self):\n",
    "        return self.__balance\n",
    "    \n",
    "    @number.setter\n",
    "    def number(self, x):\n",
    "        raise AccountError(\"Account number can not be changed\")\n",
    "        \n",
    "    @balance.setter\n",
    "    def balance(self, amount):\n",
    "        if amount >= 0:\n",
    "            if amount < 1000000:\n",
    "                self.__balance = amount\n",
    "            else:\n",
    "                print(\"Alert, balance above 1000000\")\n",
    "                \n",
    "        elif amount < 0:\n",
    "            raise AccountError (\"Account balance can not be negative\")\n",
    "            \n",
    "    @balance.deleter\n",
    "    def balance(self):\n",
    "        self.__balance = None\n",
    "        \n",
    "    @number.deleter\n",
    "    def number(self):\n",
    "        if self.__balance == 0:\n",
    "            self.__number = None\n",
    "        else:\n",
    "            raise AccountError (\"Account can not be deleted\")\n",
    "\n",
    "            \n",
    "account = Account(1234)\n",
    "\n",
    "try:\n",
    "    account.number =110\n",
    "except AccountError as e:\n",
    "    print(e)    \n",
    "\n",
    "try:\n",
    "    account.balance =110\n",
    "except AccountError as e:\n",
    "    print(e)    \n",
    "\n",
    "print(\"Current account balance is:\", account.balance)\n",
    "\n",
    "try:\n",
    "    account.balance =10000000\n",
    "except AccountError as e:\n",
    "    print(e)\n",
    "    \n",
    "try:\n",
    "    del account.number\n",
    "except AccountError as e:\n",
    "    print(e)"
   ]
  },
  {
   "cell_type": "code",
   "execution_count": 8,
   "id": "0ca80bbc",
   "metadata": {},
   "outputs": [],
   "source": [
    "class Tire:\n",
    "    def __init__(self, size):\n",
    "        self.size = size\n",
    "        self.pressure = 0\n",
    "        \n",
    "    def __str__(self):\n",
    "        return f\"size {self.size} tire\"\n",
    "        \n",
    "    def get_pressure(self):\n",
    "        return self.pressure\n",
    "    \n",
    "    def pump(self, level):\n",
    "        self.pressure = level\n",
    "        \n",
    "class Engine:\n",
    "    \n",
    "    state = \"off\"\n",
    "    def __init__(self, fuel):\n",
    "        self.fuel = fuel\n",
    "        \n",
    "    def __str__(self):\n",
    "        return f\"{self.fuel} engine\" \n",
    "    \n",
    "    def start(self): \n",
    "        print(f\"Starting {self.fuel} engine.\")\n",
    "        Engine.state = \"On\"\n",
    "           \n",
    "    def stop(self):\n",
    "        print(f\"{self.fuel} engine stopped\")\n",
    "        Engine.state = \"Off\"\n",
    "        \n",
    "    def get_state(self):\n",
    "        return Engine.state\n",
    "            \n",
    "class Vehicle:\n",
    "    def __init__(self, VIN, engine, tires):\n",
    "        self.VIN = VIN\n",
    "        self.engine = engine\n",
    "        self.tires = tires\n",
    "        \n",
    "    def __str__(self):\n",
    "        return f\"car {self.VIN} is equiped with {self.engine} and {self.tires}.\"\n",
    "              \n",
    "city_tire = Tire(15)\n",
    "off_road_tire = Tire(18)\n",
    "\n",
    "electronic_engine = Engine(\"electronic\")\n",
    "petrol_engine = Engine(\"petrol\")\n",
    "\n",
    "city_car = Vehicle(\"123\", electronic_engine, city_tire)\n",
    "all_terrin_car = Vehicle(\"345\", petrol_engine, off_road_tire)\n"
   ]
  },
  {
   "cell_type": "code",
   "execution_count": 9,
   "id": "61ed444a",
   "metadata": {},
   "outputs": [
    {
     "name": "stdout",
     "output_type": "stream",
     "text": [
      "Starting electronic engine.\n"
     ]
    },
    {
     "data": {
      "text/plain": [
       "'On'"
      ]
     },
     "execution_count": 9,
     "metadata": {},
     "output_type": "execute_result"
    }
   ],
   "source": [
    "city_car.engine.start()\n",
    "\n",
    "city_car.engine.get_state()"
   ]
  },
  {
   "cell_type": "code",
   "execution_count": 10,
   "id": "9c239610",
   "metadata": {},
   "outputs": [
    {
     "name": "stdout",
     "output_type": "stream",
     "text": [
      "petrol engine stopped\n"
     ]
    },
    {
     "data": {
      "text/plain": [
       "'Off'"
      ]
     },
     "execution_count": 10,
     "metadata": {},
     "output_type": "execute_result"
    }
   ],
   "source": [
    "all_terrin_car.engine.stop()\n",
    "\n",
    "all_terrin_car.engine.get_state()"
   ]
  },
  {
   "cell_type": "code",
   "execution_count": null,
   "id": "a5b001f7",
   "metadata": {},
   "outputs": [],
   "source": []
  }
 ],
 "metadata": {
  "kernelspec": {
   "display_name": "Python 3 (ipykernel)",
   "language": "python",
   "name": "python3"
  },
  "language_info": {
   "codemirror_mode": {
    "name": "ipython",
    "version": 3
   },
   "file_extension": ".py",
   "mimetype": "text/x-python",
   "name": "python",
   "nbconvert_exporter": "python",
   "pygments_lexer": "ipython3",
   "version": "3.9.7"
  }
 },
 "nbformat": 4,
 "nbformat_minor": 5
}
